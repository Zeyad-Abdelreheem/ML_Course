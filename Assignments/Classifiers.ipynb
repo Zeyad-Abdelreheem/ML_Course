{
 "cells": [
  {
   "cell_type": "markdown",
   "metadata": {},
   "source": [
    "# ML Classification Project "
   ]
  },
  {
   "cell_type": "markdown",
   "metadata": {},
   "source": [
    "Members = {Zeyad Omar, Omar Wasif}<br>\n",
    "IDs = {46-17779, 46-10701}<br>\n",
    "Majors = {Communications, Communications}\n"
   ]
  },
  {
   "cell_type": "markdown",
   "metadata": {},
   "source": [
    "### Import Libraries"
   ]
  },
  {
   "cell_type": "code",
   "execution_count": 70,
   "metadata": {},
   "outputs": [],
   "source": [
    "import numpy as np\n",
    "import pandas as pd\n",
    "\n",
    "from sklearn.model_selection import train_test_split\n",
    "from sklearn.neighbors import KNeighborsClassifier as KNN\n",
    "from sklearn.linear_model import LogisticRegression as LR\n",
    "from sklearn.naive_bayes import GaussianNB\n",
    "\n",
    "from keras.models import Sequential\n",
    "from keras.layers import Dense\n",
    "from keras.wrappers.scikit_learn import KerasClassifier\n",
    "from keras.utils import np_utils\n",
    "from sklearn.model_selection import cross_val_score\n",
    "from sklearn.model_selection import KFold\n",
    "from sklearn.pipeline import Pipeline\n",
    "from sklearn.metrics import f1_score\n",
    "from tensorflow.keras.optimizers import Adam\n",
    "from sklearn.metrics import confusion_matrix\n",
    "from sklearn.metrics import ConfusionMatrixDisplay"
   ]
  },
  {
   "cell_type": "code",
   "execution_count": 47,
   "metadata": {},
   "outputs": [],
   "source": [
    "import matplotlib.pyplot as plt"
   ]
  },
  {
   "cell_type": "code",
   "execution_count": 48,
   "metadata": {},
   "outputs": [],
   "source": [
    "import warnings\n",
    "warnings.filterwarnings('ignore')"
   ]
  },
  {
   "cell_type": "markdown",
   "metadata": {},
   "source": [
    "### Read the dataset"
   ]
  },
  {
   "cell_type": "markdown",
   "metadata": {},
   "source": [
    "The dataset is passed by the data cleaning pipeline in the `Data_Preprocessing` notebook <br>\n",
    "the resultant data set is called `Clean_2011_Accidents_UK.csv` so we read it directly"
   ]
  },
  {
   "cell_type": "code",
   "execution_count": 49,
   "metadata": {},
   "outputs": [
    {
     "data": {
      "text/html": [
       "<div>\n",
       "<style scoped>\n",
       "    .dataframe tbody tr th:only-of-type {\n",
       "        vertical-align: middle;\n",
       "    }\n",
       "\n",
       "    .dataframe tbody tr th {\n",
       "        vertical-align: top;\n",
       "    }\n",
       "\n",
       "    .dataframe thead th {\n",
       "        text-align: right;\n",
       "    }\n",
       "</style>\n",
       "<table border=\"1\" class=\"dataframe\">\n",
       "  <thead>\n",
       "    <tr style=\"text-align: right;\">\n",
       "      <th></th>\n",
       "      <th>accident_year</th>\n",
       "      <th>accident_reference</th>\n",
       "      <th>longitude</th>\n",
       "      <th>latitude</th>\n",
       "      <th>police_force</th>\n",
       "      <th>accident_severity</th>\n",
       "      <th>number_of_vehicles</th>\n",
       "      <th>number_of_casualties</th>\n",
       "      <th>date</th>\n",
       "      <th>day_of_week</th>\n",
       "      <th>...</th>\n",
       "      <th>did_police_officer_attend_scene_of_accident</th>\n",
       "      <th>trunk_road_flag</th>\n",
       "      <th>lsoa_of_accident_location</th>\n",
       "      <th>extracted_reference</th>\n",
       "      <th>day_number</th>\n",
       "      <th>week_number</th>\n",
       "      <th>season</th>\n",
       "      <th>is_weekend</th>\n",
       "      <th>hour</th>\n",
       "      <th>daytimegroup</th>\n",
       "    </tr>\n",
       "    <tr>\n",
       "      <th>accident_index</th>\n",
       "      <th></th>\n",
       "      <th></th>\n",
       "      <th></th>\n",
       "      <th></th>\n",
       "      <th></th>\n",
       "      <th></th>\n",
       "      <th></th>\n",
       "      <th></th>\n",
       "      <th></th>\n",
       "      <th></th>\n",
       "      <th></th>\n",
       "      <th></th>\n",
       "      <th></th>\n",
       "      <th></th>\n",
       "      <th></th>\n",
       "      <th></th>\n",
       "      <th></th>\n",
       "      <th></th>\n",
       "      <th></th>\n",
       "      <th></th>\n",
       "      <th></th>\n",
       "    </tr>\n",
       "  </thead>\n",
       "  <tbody>\n",
       "    <tr>\n",
       "      <th>201101BS70001</th>\n",
       "      <td>2011</td>\n",
       "      <td>01BS70001</td>\n",
       "      <td>-0.192203</td>\n",
       "      <td>0.146620</td>\n",
       "      <td>0.16377</td>\n",
       "      <td>1</td>\n",
       "      <td>1</td>\n",
       "      <td>1</td>\n",
       "      <td>13-01-11</td>\n",
       "      <td>Thursday</td>\n",
       "      <td>...</td>\n",
       "      <td>1</td>\n",
       "      <td>0</td>\n",
       "      <td>E01002812</td>\n",
       "      <td>01BS70001</td>\n",
       "      <td>3</td>\n",
       "      <td>-1.662733</td>\n",
       "      <td>Winter</td>\n",
       "      <td>0</td>\n",
       "      <td>0.485503</td>\n",
       "      <td>afternoon rush (15 - 19)</td>\n",
       "    </tr>\n",
       "    <tr>\n",
       "      <th>201101BS70002</th>\n",
       "      <td>2011</td>\n",
       "      <td>01BS70002</td>\n",
       "      <td>-0.165408</td>\n",
       "      <td>0.146615</td>\n",
       "      <td>0.16377</td>\n",
       "      <td>2</td>\n",
       "      <td>2</td>\n",
       "      <td>1</td>\n",
       "      <td>01-11-11</td>\n",
       "      <td>Tuesday</td>\n",
       "      <td>...</td>\n",
       "      <td>1</td>\n",
       "      <td>0</td>\n",
       "      <td>E01002819</td>\n",
       "      <td>01BS70002</td>\n",
       "      <td>1</td>\n",
       "      <td>1.158509</td>\n",
       "      <td>Autumn</td>\n",
       "      <td>0</td>\n",
       "      <td>1.075083</td>\n",
       "      <td>evening (19 - 23)</td>\n",
       "    </tr>\n",
       "    <tr>\n",
       "      <th>201101BS70003</th>\n",
       "      <td>2011</td>\n",
       "      <td>01BS70003</td>\n",
       "      <td>-0.170401</td>\n",
       "      <td>0.146061</td>\n",
       "      <td>0.16377</td>\n",
       "      <td>1</td>\n",
       "      <td>1</td>\n",
       "      <td>1</td>\n",
       "      <td>19-01-11</td>\n",
       "      <td>Wednesday</td>\n",
       "      <td>...</td>\n",
       "      <td>1</td>\n",
       "      <td>0</td>\n",
       "      <td>E01002914</td>\n",
       "      <td>01BS70003</td>\n",
       "      <td>2</td>\n",
       "      <td>-1.595560</td>\n",
       "      <td>Winter</td>\n",
       "      <td>0</td>\n",
       "      <td>0.682030</td>\n",
       "      <td>afternoon rush (15 - 19)</td>\n",
       "    </tr>\n",
       "    <tr>\n",
       "      <th>201101BS70005</th>\n",
       "      <td>2011</td>\n",
       "      <td>01BS70005</td>\n",
       "      <td>-0.194856</td>\n",
       "      <td>0.146817</td>\n",
       "      <td>0.16377</td>\n",
       "      <td>1</td>\n",
       "      <td>2</td>\n",
       "      <td>3</td>\n",
       "      <td>25-01-11</td>\n",
       "      <td>Tuesday</td>\n",
       "      <td>...</td>\n",
       "      <td>1</td>\n",
       "      <td>0</td>\n",
       "      <td>E01002813</td>\n",
       "      <td>01BS70005</td>\n",
       "      <td>1</td>\n",
       "      <td>-1.528388</td>\n",
       "      <td>Winter</td>\n",
       "      <td>0</td>\n",
       "      <td>1.861189</td>\n",
       "      <td>night (0 - 5)</td>\n",
       "    </tr>\n",
       "    <tr>\n",
       "      <th>201101BS70007</th>\n",
       "      <td>2011</td>\n",
       "      <td>01BS70007</td>\n",
       "      <td>-0.182783</td>\n",
       "      <td>0.145401</td>\n",
       "      <td>0.16377</td>\n",
       "      <td>1</td>\n",
       "      <td>2</td>\n",
       "      <td>1</td>\n",
       "      <td>01-06-11</td>\n",
       "      <td>Thursday</td>\n",
       "      <td>...</td>\n",
       "      <td>1</td>\n",
       "      <td>0</td>\n",
       "      <td>E01002913</td>\n",
       "      <td>01BS70007</td>\n",
       "      <td>3</td>\n",
       "      <td>-0.319284</td>\n",
       "      <td>Spring</td>\n",
       "      <td>0</td>\n",
       "      <td>-1.479763</td>\n",
       "      <td>morning rush (5 - 10)</td>\n",
       "    </tr>\n",
       "  </tbody>\n",
       "</table>\n",
       "<p>5 rows × 40 columns</p>\n",
       "</div>"
      ],
      "text/plain": [
       "                accident_year accident_reference  longitude  latitude  \\\n",
       "accident_index                                                          \n",
       "201101BS70001            2011          01BS70001  -0.192203  0.146620   \n",
       "201101BS70002            2011          01BS70002  -0.165408  0.146615   \n",
       "201101BS70003            2011          01BS70003  -0.170401  0.146061   \n",
       "201101BS70005            2011          01BS70005  -0.194856  0.146817   \n",
       "201101BS70007            2011          01BS70007  -0.182783  0.145401   \n",
       "\n",
       "                police_force  accident_severity  number_of_vehicles  \\\n",
       "accident_index                                                        \n",
       "201101BS70001        0.16377                  1                   1   \n",
       "201101BS70002        0.16377                  2                   2   \n",
       "201101BS70003        0.16377                  1                   1   \n",
       "201101BS70005        0.16377                  1                   2   \n",
       "201101BS70007        0.16377                  1                   2   \n",
       "\n",
       "                number_of_casualties      date day_of_week  ...  \\\n",
       "accident_index                                              ...   \n",
       "201101BS70001                      1  13-01-11    Thursday  ...   \n",
       "201101BS70002                      1  01-11-11     Tuesday  ...   \n",
       "201101BS70003                      1  19-01-11   Wednesday  ...   \n",
       "201101BS70005                      3  25-01-11     Tuesday  ...   \n",
       "201101BS70007                      1  01-06-11    Thursday  ...   \n",
       "\n",
       "               did_police_officer_attend_scene_of_accident  trunk_road_flag  \\\n",
       "accident_index                                                                \n",
       "201101BS70001                                            1                0   \n",
       "201101BS70002                                            1                0   \n",
       "201101BS70003                                            1                0   \n",
       "201101BS70005                                            1                0   \n",
       "201101BS70007                                            1                0   \n",
       "\n",
       "                lsoa_of_accident_location  extracted_reference day_number  \\\n",
       "accident_index                                                              \n",
       "201101BS70001                   E01002812            01BS70001          3   \n",
       "201101BS70002                   E01002819            01BS70002          1   \n",
       "201101BS70003                   E01002914            01BS70003          2   \n",
       "201101BS70005                   E01002813            01BS70005          1   \n",
       "201101BS70007                   E01002913            01BS70007          3   \n",
       "\n",
       "                week_number  season  is_weekend      hour  \\\n",
       "accident_index                                              \n",
       "201101BS70001     -1.662733  Winter           0  0.485503   \n",
       "201101BS70002      1.158509  Autumn           0  1.075083   \n",
       "201101BS70003     -1.595560  Winter           0  0.682030   \n",
       "201101BS70005     -1.528388  Winter           0  1.861189   \n",
       "201101BS70007     -0.319284  Spring           0 -1.479763   \n",
       "\n",
       "                            daytimegroup  \n",
       "accident_index                            \n",
       "201101BS70001   afternoon rush (15 - 19)  \n",
       "201101BS70002          evening (19 - 23)  \n",
       "201101BS70003   afternoon rush (15 - 19)  \n",
       "201101BS70005              night (0 - 5)  \n",
       "201101BS70007      morning rush (5 - 10)  \n",
       "\n",
       "[5 rows x 40 columns]"
      ]
     },
     "execution_count": 49,
     "metadata": {},
     "output_type": "execute_result"
    }
   ],
   "source": [
    "df = pd.read_csv('Clean_2011_Accidents_UK.csv', index_col='accident_index')\n",
    "df.head()"
   ]
  },
  {
   "cell_type": "code",
   "execution_count": 50,
   "metadata": {},
   "outputs": [
    {
     "name": "stdout",
     "output_type": "stream",
     "text": [
      "<class 'pandas.core.frame.DataFrame'>\n",
      "Index: 143976 entries, 201101BS70001 to 2.01198E+12\n",
      "Data columns (total 40 columns):\n",
      " #   Column                                       Non-Null Count   Dtype  \n",
      "---  ------                                       --------------   -----  \n",
      " 0   accident_year                                143976 non-null  int64  \n",
      " 1   accident_reference                           143976 non-null  object \n",
      " 2   longitude                                    143976 non-null  float64\n",
      " 3   latitude                                     143976 non-null  float64\n",
      " 4   police_force                                 143976 non-null  float64\n",
      " 5   accident_severity                            143976 non-null  int64  \n",
      " 6   number_of_vehicles                           143976 non-null  int64  \n",
      " 7   number_of_casualties                         143976 non-null  int64  \n",
      " 8   date                                         143976 non-null  object \n",
      " 9   day_of_week                                  143976 non-null  object \n",
      " 10  time                                         143976 non-null  object \n",
      " 11  local_authority_district                     143976 non-null  float64\n",
      " 12  local_authority_ons_district                 143976 non-null  float64\n",
      " 13  local_authority_highway                      143976 non-null  float64\n",
      " 14  first_road_class                             143976 non-null  object \n",
      " 15  first_road_number                            143976 non-null  int64  \n",
      " 16  road_type                                    143976 non-null  object \n",
      " 17  speed_limit                                  143976 non-null  float64\n",
      " 18  junction_detail                              143976 non-null  int64  \n",
      " 19  junction_control                             143976 non-null  int64  \n",
      " 20  second_road_class                            143976 non-null  object \n",
      " 21  second_road_number                           143976 non-null  int64  \n",
      " 22  pedestrian_crossing_human_control            143976 non-null  int64  \n",
      " 23  pedestrian_crossing_physical_facilities      143976 non-null  int64  \n",
      " 24  light_conditions                             143976 non-null  int64  \n",
      " 25  weather_conditions                           143976 non-null  int64  \n",
      " 26  road_surface_conditions                      143976 non-null  int64  \n",
      " 27  special_conditions_at_site                   143976 non-null  int64  \n",
      " 28  carriageway_hazards                          143976 non-null  int64  \n",
      " 29  urban_or_rural_area                          143976 non-null  int64  \n",
      " 30  did_police_officer_attend_scene_of_accident  143976 non-null  int64  \n",
      " 31  trunk_road_flag                              143976 non-null  int64  \n",
      " 32  lsoa_of_accident_location                    143976 non-null  object \n",
      " 33  extracted_reference                          143976 non-null  object \n",
      " 34  day_number                                   143976 non-null  int64  \n",
      " 35  week_number                                  143976 non-null  float64\n",
      " 36  season                                       143976 non-null  object \n",
      " 37  is_weekend                                   143976 non-null  int64  \n",
      " 38  hour                                         143976 non-null  float64\n",
      " 39  daytimegroup                                 143976 non-null  object \n",
      "dtypes: float64(9), int64(20), object(11)\n",
      "memory usage: 45.0+ MB\n"
     ]
    }
   ],
   "source": [
    "df.info()"
   ]
  },
  {
   "cell_type": "code",
   "execution_count": 51,
   "metadata": {},
   "outputs": [
    {
     "data": {
      "text/plain": [
       "Index(['accident_year', 'accident_reference', 'longitude', 'latitude',\n",
       "       'police_force', 'accident_severity', 'number_of_vehicles',\n",
       "       'number_of_casualties', 'date', 'day_of_week', 'time',\n",
       "       'local_authority_district', 'local_authority_ons_district',\n",
       "       'local_authority_highway', 'first_road_class', 'first_road_number',\n",
       "       'road_type', 'speed_limit', 'junction_detail', 'junction_control',\n",
       "       'second_road_class', 'second_road_number',\n",
       "       'pedestrian_crossing_human_control',\n",
       "       'pedestrian_crossing_physical_facilities', 'light_conditions',\n",
       "       'weather_conditions', 'road_surface_conditions',\n",
       "       'special_conditions_at_site', 'carriageway_hazards',\n",
       "       'urban_or_rural_area', 'did_police_officer_attend_scene_of_accident',\n",
       "       'trunk_road_flag', 'lsoa_of_accident_location', 'extracted_reference',\n",
       "       'day_number', 'week_number', 'season', 'is_weekend', 'hour',\n",
       "       'daytimegroup'],\n",
       "      dtype='object')"
      ]
     },
     "execution_count": 51,
     "metadata": {},
     "output_type": "execute_result"
    }
   ],
   "source": [
    "df.columns"
   ]
  },
  {
   "cell_type": "code",
   "execution_count": 52,
   "metadata": {},
   "outputs": [
    {
     "data": {
      "text/plain": [
       "accident_severity\n",
       "1    0.852031\n",
       "2    0.137231\n",
       "3    0.010738\n",
       "Name: accident_severity, dtype: float64"
      ]
     },
     "execution_count": 52,
     "metadata": {},
     "output_type": "execute_result"
    }
   ],
   "source": [
    "df.groupby(by = ['accident_severity'])['accident_severity'].count()/df.shape[0]"
   ]
  },
  {
   "cell_type": "markdown",
   "metadata": {},
   "source": [
    "It seems we have **imbalanced dataset** so we should avoid using the **accuracy** metric <br> \n",
    "We can use **F1 score** instead <br>\n",
    "F1 Score for multiple classes is calculated per class and aggregated using the method `average` <br>\n",
    "Which in our case `micro` which counts the total true positives, false negatives and false positives."
   ]
  },
  {
   "cell_type": "markdown",
   "metadata": {},
   "source": [
    "### Extracting relevant features"
   ]
  },
  {
   "cell_type": "code",
   "execution_count": 53,
   "metadata": {},
   "outputs": [],
   "source": [
    "features =['longitude', 'latitude',\n",
    "           'police_force', 'number_of_vehicles',\n",
    "           'number_of_casualties', 'speed_limit',\n",
    "           'pedestrian_crossing_human_control',\n",
    "           'pedestrian_crossing_physical_facilities',\n",
    "           'light_conditions', 'weather_conditions',\n",
    "           'road_surface_conditions',\n",
    "           'special_conditions_at_site', 'carriageway_hazards',\n",
    "           'urban_or_rural_area', 'did_police_officer_attend_scene_of_accident',\n",
    "           'trunk_road_flag','day_number', \n",
    "           'week_number', 'is_weekend', 'hour']"
   ]
  },
  {
   "cell_type": "code",
   "execution_count": 54,
   "metadata": {},
   "outputs": [],
   "source": [
    "labels = ['accident_severity']"
   ]
  },
  {
   "cell_type": "code",
   "execution_count": 55,
   "metadata": {},
   "outputs": [],
   "source": [
    "X = df[features].values\n",
    "y = df[labels].values"
   ]
  },
  {
   "cell_type": "code",
   "execution_count": 56,
   "metadata": {},
   "outputs": [
    {
     "data": {
      "text/plain": [
       "(143976, 20)"
      ]
     },
     "execution_count": 56,
     "metadata": {},
     "output_type": "execute_result"
    }
   ],
   "source": [
    "X.shape"
   ]
  },
  {
   "cell_type": "code",
   "execution_count": 57,
   "metadata": {},
   "outputs": [
    {
     "data": {
      "text/plain": [
       "(143976, 1)"
      ]
     },
     "execution_count": 57,
     "metadata": {},
     "output_type": "execute_result"
    }
   ],
   "source": [
    "y.shape"
   ]
  },
  {
   "cell_type": "markdown",
   "metadata": {},
   "source": [
    "We have 143976 records each has 20 features"
   ]
  },
  {
   "cell_type": "markdown",
   "metadata": {},
   "source": [
    "from preprocessing we chose Label encoding so lets check it has 3 classes"
   ]
  },
  {
   "cell_type": "code",
   "execution_count": 58,
   "metadata": {},
   "outputs": [
    {
     "name": "stdout",
     "output_type": "stream",
     "text": [
      "[1 2 3]\n"
     ]
    }
   ],
   "source": [
    "print(np.unique(y))"
   ]
  },
  {
   "cell_type": "code",
   "execution_count": 59,
   "metadata": {},
   "outputs": [
    {
     "name": "stdout",
     "output_type": "stream",
     "text": [
      "[0 1 2]\n"
     ]
    }
   ],
   "source": [
    "y-=1\n",
    "print(np.unique(y))"
   ]
  },
  {
   "cell_type": "markdown",
   "metadata": {},
   "source": [
    "the above step is for convenince"
   ]
  },
  {
   "cell_type": "markdown",
   "metadata": {},
   "source": [
    "### Splitting the data for train and test"
   ]
  },
  {
   "cell_type": "markdown",
   "metadata": {},
   "source": [
    "Since the dataset is imbalanced so it is important to split the data while maintaining the same ratio <br>\n",
    "so we used the `stratify` keyword to split based on the output classes ratio"
   ]
  },
  {
   "cell_type": "code",
   "execution_count": 93,
   "metadata": {},
   "outputs": [],
   "source": [
    "X_train, X_test, y_train, y_test = train_test_split(X, y, train_size = 0.8, stratify = y)"
   ]
  },
  {
   "cell_type": "markdown",
   "metadata": {},
   "source": [
    "#### We split the data into 80% training and 20% testing"
   ]
  },
  {
   "cell_type": "code",
   "execution_count": 94,
   "metadata": {},
   "outputs": [
    {
     "name": "stdout",
     "output_type": "stream",
     "text": [
      "----------Train dataset----------\n",
      "(115180, 20)\n",
      "(115180, 1)\n",
      "------------Test dataset----------\n",
      "(28796, 20)\n",
      "(28796, 1)\n"
     ]
    }
   ],
   "source": [
    "print(\"----------Train dataset----------\")\n",
    "print(X_train.shape)\n",
    "print(y_train.shape)\n",
    "\n",
    "print(\"------------Test dataset----------\")\n",
    "print(X_test.shape)\n",
    "print(y_test.shape)\n"
   ]
  },
  {
   "cell_type": "code",
   "execution_count": 95,
   "metadata": {},
   "outputs": [
    {
     "data": {
      "text/plain": [
       "3"
      ]
     },
     "execution_count": 95,
     "metadata": {},
     "output_type": "execute_result"
    }
   ],
   "source": [
    "N_CLASSES = len(np.unique(y))\n",
    "N_CLASSES"
   ]
  },
  {
   "cell_type": "markdown",
   "metadata": {},
   "source": [
    "### KNN"
   ]
  },
  {
   "cell_type": "code",
   "execution_count": 96,
   "metadata": {},
   "outputs": [],
   "source": [
    "X_test2, X_valid, y_test2, y_valid = train_test_split(X_test, y_test, train_size = 0.5, stratify = y_test)"
   ]
  },
  {
   "cell_type": "code",
   "execution_count": 97,
   "metadata": {},
   "outputs": [],
   "source": [
    "Ks = range(2, 25)\n",
    "scores = []\n",
    "for K in Ks:\n",
    "    knn = KNN(K)\n",
    "\n",
    "    knn.fit(X_train, y_train)\n",
    "\n",
    "    y_pred = knn.predict(X_valid)\n",
    "\n",
    "    scores.append(f1_score(y_pred, y_valid, average = 'micro'))"
   ]
  },
  {
   "cell_type": "code",
   "execution_count": null,
   "metadata": {},
   "outputs": [],
   "source": [
    "plt.plot(Ks, scores)\n",
    "plt.xlabel('Ks')\n",
    "plt.ylabel('F1 Score')"
   ]
  },
  {
   "cell_type": "markdown",
   "metadata": {},
   "source": [
    "We chose the F1-score to be our evaluation metric <br>\n",
    "It seems that the optimal K is **10** and the highest f1 score is 0.85 <br>\n",
    "Note: no need to take Ks values higher than 10 as f1 score is almost the same for them"
   ]
  },
  {
   "cell_type": "code",
   "execution_count": 64,
   "metadata": {},
   "outputs": [
    {
     "data": {
      "text/plain": [
       "0.8497708015002083"
      ]
     },
     "execution_count": 64,
     "metadata": {},
     "output_type": "execute_result"
    }
   ],
   "source": [
    "knn = KNN(10)\n",
    "\n",
    "knn.fit(X_train, y_train)\n",
    "\n",
    "y_pred = knn.predict(X_test2)\n",
    "\n",
    "f1_score(y_pred, y_test2, average = 'micro')"
   ]
  },
  {
   "cell_type": "markdown",
   "metadata": {},
   "source": [
    "The validation accuracy is almost the same as test accuracy"
   ]
  },
  {
   "cell_type": "code",
   "execution_count": 69,
   "metadata": {},
   "outputs": [
    {
     "data": {
      "image/png": "[encoded data removed]",
      "text/plain": [
       "<Figure size 432x288 with 2 Axes>"
      ]
     },
     "metadata": {
      "needs_background": "light"
     },
     "output_type": "display_data"
    }
   ],
   "source": [
    "cm = confusion_matrix(y_test2, y_pred)\n",
    "cm_display = ConfusionMatrixDisplay(cm).plot()"
   ]
  },
  {
   "cell_type": "markdown",
   "metadata": {},
   "source": [
    "We can see that the model is biased towards the major class so we shouldn't rely on the accuracy as the evaluation metric"
   ]
  },
  {
   "cell_type": "markdown",
   "metadata": {},
   "source": [
    "### Logistic Regression"
   ]
  },
  {
   "cell_type": "markdown",
   "metadata": {},
   "source": [
    "For multi-class Classification Log-Reg uses the one-vs-rest technique"
   ]
  },
  {
   "cell_type": "code",
   "execution_count": 71,
   "metadata": {},
   "outputs": [
    {
     "data": {
      "text/plain": [
       "LogisticRegression(multi_class='ovr')"
      ]
     },
     "execution_count": 71,
     "metadata": {},
     "output_type": "execute_result"
    }
   ],
   "source": [
    "log_reg = LR(multi_class='ovr')\n",
    "log_reg.fit(X_train, y_train)"
   ]
  },
  {
   "cell_type": "code",
   "execution_count": 72,
   "metadata": {},
   "outputs": [
    {
     "data": {
      "text/plain": [
       "0.8520280594527018"
      ]
     },
     "execution_count": 72,
     "metadata": {},
     "output_type": "execute_result"
    }
   ],
   "source": [
    "y_pred = log_reg.predict(X_test)\n",
    "f1_score(y_pred, y_test, average = 'micro')"
   ]
  },
  {
   "cell_type": "code",
   "execution_count": 73,
   "metadata": {},
   "outputs": [
    {
     "data": {
      "image/png": "[encoded data removed]",
      "text/plain": [
       "<Figure size 432x288 with 2 Axes>"
      ]
     },
     "metadata": {
      "needs_background": "light"
     },
     "output_type": "display_data"
    }
   ],
   "source": [
    "cm = confusion_matrix(y_test, y_pred)\n",
    "cm_display = ConfusionMatrixDisplay(cm).plot()"
   ]
  },
  {
   "cell_type": "markdown",
   "metadata": {},
   "source": [
    "### Naive Bayes"
   ]
  },
  {
   "cell_type": "markdown",
   "metadata": {},
   "source": [
    "We assumed the random variables have normal distribution"
   ]
  },
  {
   "cell_type": "code",
   "execution_count": 74,
   "metadata": {},
   "outputs": [
    {
     "data": {
      "text/plain": [
       "GaussianNB()"
      ]
     },
     "execution_count": 74,
     "metadata": {},
     "output_type": "execute_result"
    }
   ],
   "source": [
    "gnb = GaussianNB()\n",
    "\n",
    "gnb.fit(X_train, y_train)"
   ]
  },
  {
   "cell_type": "code",
   "execution_count": 75,
   "metadata": {},
   "outputs": [
    {
     "data": {
      "text/plain": [
       "0.7913599110987637"
      ]
     },
     "execution_count": 75,
     "metadata": {},
     "output_type": "execute_result"
    }
   ],
   "source": [
    "y_pred = gnb.predict(X_test)\n",
    "f1_score(y_pred, y_test, average = 'micro')"
   ]
  },
  {
   "cell_type": "code",
   "execution_count": 76,
   "metadata": {},
   "outputs": [
    {
     "data": {
      "image/png": "[encoded data removed]",
      "text/plain": [
       "<Figure size 432x288 with 2 Axes>"
      ]
     },
     "metadata": {
      "needs_background": "light"
     },
     "output_type": "display_data"
    }
   ],
   "source": [
    "cm = confusion_matrix(y_test, y_pred)\n",
    "cm_display = ConfusionMatrixDisplay(cm).plot()"
   ]
  },
  {
   "cell_type": "markdown",
   "metadata": {},
   "source": [
    "### Neural Network"
   ]
  },
  {
   "cell_type": "code",
   "execution_count": 77,
   "metadata": {},
   "outputs": [],
   "source": [
    "input_shape = (X_train.shape[1])"
   ]
  },
  {
   "cell_type": "code",
   "execution_count": 78,
   "metadata": {},
   "outputs": [
    {
     "data": {
      "text/plain": [
       "3"
      ]
     },
     "execution_count": 78,
     "metadata": {},
     "output_type": "execute_result"
    }
   ],
   "source": [
    "N_CLASSES"
   ]
  },
  {
   "cell_type": "markdown",
   "metadata": {},
   "source": [
    "It is easier to use one hot encoding for this model as it the NN outputs the probability of belonging to each class of the 3"
   ]
  },
  {
   "cell_type": "code",
   "execution_count": 90,
   "metadata": {},
   "outputs": [
    {
     "name": "stdout",
     "output_type": "stream",
     "text": [
      "(115180, 3)\n"
     ]
    }
   ],
   "source": [
    "y_train = np_utils.to_categorical(y_train, num_classes=N_CLASSES)\n",
    "y_test = np_utils.to_categorical(y_test, num_classes=N_CLASSES)\n",
    "\n",
    "print(y_train.shape)\n"
   ]
  },
  {
   "cell_type": "code",
   "execution_count": 80,
   "metadata": {},
   "outputs": [],
   "source": [
    "\n",
    " \n",
    "def baseline_model():\n",
    "    model = Sequential()\n",
    "    model.add(Dense(3, activation='relu'))\n",
    "    model.add(Dense(3, activation='softmax'))\n",
    "    \n",
    "    model.compile(loss='categorical_crossentropy', \n",
    "                  optimizer = Adam(learning_rate=0.001),\n",
    "                  metrics=['accuracy'])\n",
    "    \n",
    "    return model\n",
    " \n",
    "estimator = KerasClassifier(build_fn=baseline_model,\n",
    "                            epochs=10,\n",
    "                            batch_size=256,\n",
    "                            verbose=1.)\n",
    "                            \n",
    "\n"
   ]
  },
  {
   "cell_type": "markdown",
   "metadata": {},
   "source": [
    "We are using K-fold cross-validation where we split the Training data into 5 parts and train on 4 then validate on the 5th"
   ]
  },
  {
   "cell_type": "code",
   "execution_count": 27,
   "metadata": {},
   "outputs": [],
   "source": [
    "kfold = KFold(n_splits=5, shuffle=True)\n"
   ]
  },
  {
   "cell_type": "code",
   "execution_count": 28,
   "metadata": {},
   "outputs": [
    {
     "name": "stdout",
     "output_type": "stream",
     "text": [
      "Epoch 1/10\n",
      "360/360 [==============================] - 2s 2ms/step - loss: 0.4636 - accuracy: 0.8492\n",
      "Epoch 2/10\n",
      "360/360 [==============================] - 1s 2ms/step - loss: 0.4478 - accuracy: 0.8521\n",
      "Epoch 3/10\n",
      "360/360 [==============================] - 1s 2ms/step - loss: 0.4467 - accuracy: 0.8521\n",
      "Epoch 4/10\n",
      "360/360 [==============================] - 1s 2ms/step - loss: 0.4459 - accuracy: 0.8521\n",
      "Epoch 5/10\n",
      "360/360 [==============================] - 1s 2ms/step - loss: 0.4455 - accuracy: 0.8521\n",
      "Epoch 6/10\n",
      "360/360 [==============================] - 1s 2ms/step - loss: 0.4452 - accuracy: 0.8521\n",
      "Epoch 7/10\n",
      "360/360 [==============================] - 1s 2ms/step - loss: 0.4448 - accuracy: 0.8521\n",
      "Epoch 8/10\n",
      "360/360 [==============================] - 1s 2ms/step - loss: 0.4442 - accuracy: 0.8521\n",
      "Epoch 9/10\n",
      "360/360 [==============================] - 1s 2ms/step - loss: 0.4443 - accuracy: 0.8521\n",
      "Epoch 10/10\n",
      "360/360 [==============================] - 1s 2ms/step - loss: 0.4438 - accuracy: 0.8521\n",
      "90/90 [==============================] - 0s 2ms/step - loss: 0.4450 - accuracy: 0.8518\n",
      "Epoch 1/10\n",
      "360/360 [==============================] - 1s 3ms/step - loss: 0.4624 - accuracy: 0.8480\n",
      "Epoch 2/10\n",
      "360/360 [==============================] - 1s 3ms/step - loss: 0.4479 - accuracy: 0.8522\n",
      "Epoch 3/10\n",
      "360/360 [==============================] - 1s 3ms/step - loss: 0.4468 - accuracy: 0.8522\n",
      "Epoch 4/10\n",
      "360/360 [==============================] - 1s 3ms/step - loss: 0.4462 - accuracy: 0.8522\n",
      "Epoch 5/10\n",
      "360/360 [==============================] - 1s 3ms/step - loss: 0.4461 - accuracy: 0.8522\n",
      "Epoch 6/10\n",
      "360/360 [==============================] - 1s 3ms/step - loss: 0.4456 - accuracy: 0.8522\n",
      "Epoch 7/10\n",
      "360/360 [==============================] - 1s 3ms/step - loss: 0.4448 - accuracy: 0.8522\n",
      "Epoch 8/10\n",
      "360/360 [==============================] - 1s 3ms/step - loss: 0.4444 - accuracy: 0.8522\n",
      "Epoch 9/10\n",
      "360/360 [==============================] - 1s 3ms/step - loss: 0.4445 - accuracy: 0.8522\n",
      "Epoch 10/10\n",
      "360/360 [==============================] - 1s 3ms/step - loss: 0.4446 - accuracy: 0.8522\n",
      "90/90 [==============================] - 0s 2ms/step - loss: 0.4440 - accuracy: 0.8515\n",
      "Epoch 1/10\n",
      "360/360 [==============================] - 1s 3ms/step - loss: 0.4588 - accuracy: 0.8500\n",
      "Epoch 2/10\n",
      "360/360 [==============================] - 1s 3ms/step - loss: 0.4493 - accuracy: 0.8512\n",
      "Epoch 3/10\n",
      "360/360 [==============================] - 1s 3ms/step - loss: 0.4480 - accuracy: 0.8512\n",
      "Epoch 4/10\n",
      "360/360 [==============================] - 1s 3ms/step - loss: 0.4477 - accuracy: 0.8512\n",
      "Epoch 5/10\n",
      "360/360 [==============================] - 1s 3ms/step - loss: 0.4473 - accuracy: 0.8512\n",
      "Epoch 6/10\n",
      "360/360 [==============================] - 1s 3ms/step - loss: 0.4472 - accuracy: 0.8512\n",
      "Epoch 7/10\n",
      "360/360 [==============================] - 1s 3ms/step - loss: 0.4469 - accuracy: 0.8512\n",
      "Epoch 8/10\n",
      "360/360 [==============================] - 1s 3ms/step - loss: 0.4470 - accuracy: 0.8512\n",
      "Epoch 9/10\n",
      "360/360 [==============================] - 1s 3ms/step - loss: 0.4466 - accuracy: 0.8512\n",
      "Epoch 10/10\n",
      "360/360 [==============================] - 1s 3ms/step - loss: 0.4466 - accuracy: 0.8512\n",
      "90/90 [==============================] - 0s 2ms/step - loss: 0.4380 - accuracy: 0.8554\n",
      "Epoch 1/10\n",
      "360/360 [==============================] - 1s 3ms/step - loss: 0.4592 - accuracy: 0.8521\n",
      "Epoch 2/10\n",
      "360/360 [==============================] - 1s 3ms/step - loss: 0.4476 - accuracy: 0.8526\n",
      "Epoch 3/10\n",
      "360/360 [==============================] - 1s 3ms/step - loss: 0.4460 - accuracy: 0.8526\n",
      "Epoch 4/10\n",
      "360/360 [==============================] - 1s 3ms/step - loss: 0.4453 - accuracy: 0.8526\n",
      "Epoch 5/10\n",
      "360/360 [==============================] - 1s 3ms/step - loss: 0.4450 - accuracy: 0.8526\n",
      "Epoch 6/10\n",
      "360/360 [==============================] - 1s 3ms/step - loss: 0.4450 - accuracy: 0.8526\n",
      "Epoch 7/10\n",
      "360/360 [==============================] - 1s 3ms/step - loss: 0.4444 - accuracy: 0.8526\n",
      "Epoch 8/10\n",
      "360/360 [==============================] - 1s 3ms/step - loss: 0.4443 - accuracy: 0.8526\n",
      "Epoch 9/10\n",
      "360/360 [==============================] - 1s 3ms/step - loss: 0.4441 - accuracy: 0.8526\n",
      "Epoch 10/10\n",
      "360/360 [==============================] - 1s 3ms/step - loss: 0.4447 - accuracy: 0.8526\n",
      "90/90 [==============================] - 0s 2ms/step - loss: 0.4490 - accuracy: 0.8499\n",
      "Epoch 1/10\n",
      "360/360 [==============================] - 1s 3ms/step - loss: 0.4697 - accuracy: 0.8446\n",
      "Epoch 2/10\n",
      "360/360 [==============================] - 1s 3ms/step - loss: 0.4490 - accuracy: 0.8522\n",
      "Epoch 3/10\n",
      "360/360 [==============================] - 1s 3ms/step - loss: 0.4471 - accuracy: 0.8522\n",
      "Epoch 4/10\n",
      "360/360 [==============================] - 1s 3ms/step - loss: 0.4465 - accuracy: 0.8522\n",
      "Epoch 5/10\n",
      "360/360 [==============================] - 1s 3ms/step - loss: 0.4466 - accuracy: 0.8522\n",
      "Epoch 6/10\n",
      "360/360 [==============================] - 1s 3ms/step - loss: 0.4457 - accuracy: 0.8522\n",
      "Epoch 7/10\n",
      "360/360 [==============================] - 1s 3ms/step - loss: 0.4457 - accuracy: 0.8522\n",
      "Epoch 8/10\n",
      "360/360 [==============================] - 1s 3ms/step - loss: 0.4457 - accuracy: 0.8522\n",
      "Epoch 9/10\n",
      "360/360 [==============================] - 1s 3ms/step - loss: 0.4454 - accuracy: 0.8522\n",
      "Epoch 10/10\n",
      "360/360 [==============================] - 1s 3ms/step - loss: 0.4453 - accuracy: 0.8522\n",
      "90/90 [==============================] - 0s 2ms/step - loss: 0.4469 - accuracy: 0.8515\n"
     ]
    }
   ],
   "source": [
    "results = cross_val_score(estimator, X_train, y_train, cv=kfold)\n"
   ]
  },
  {
   "cell_type": "code",
   "execution_count": 29,
   "metadata": {},
   "outputs": [
    {
     "name": "stdout",
     "output_type": "stream",
     "text": [
      "Baseline: 85.20% (0.18%)\n"
     ]
    }
   ],
   "source": [
    "print(\"Baseline: %.2f%% (%.2f%%)\" % (results.mean()*100, results.std()*100))"
   ]
  },
  {
   "cell_type": "markdown",
   "metadata": {},
   "source": [
    "percentages:- <br>\n",
    "<br>\n",
    "class 0 :  85.2% <br>\n",
    "class 1 :  13.7% <br>\n",
    "class 2 :  1.07% <br>\n",
    "so class 1 is almost 7 times less present in class 0 and class 2 is 85 times less present"
   ]
  },
  {
   "cell_type": "code",
   "execution_count": 81,
   "metadata": {},
   "outputs": [
    {
     "name": "stdout",
     "output_type": "stream",
     "text": [
      "Epoch 1/10\n",
      "450/450 [==============================] - 2s 4ms/step - loss: 3.0067 - accuracy: 0.1635\n",
      "Epoch 2/10\n",
      "450/450 [==============================] - 2s 4ms/step - loss: 2.9490 - accuracy: 0.2769\n",
      "Epoch 3/10\n",
      "450/450 [==============================] - 2s 4ms/step - loss: 2.8660 - accuracy: 0.4269\n",
      "Epoch 4/10\n",
      "450/450 [==============================] - 2s 4ms/step - loss: 2.8473 - accuracy: 0.4190\n",
      "Epoch 5/10\n",
      "450/450 [==============================] - 2s 4ms/step - loss: 2.8403 - accuracy: 0.4155\n",
      "Epoch 6/10\n",
      "450/450 [==============================] - 2s 4ms/step - loss: 2.8355 - accuracy: 0.4158\n",
      "Epoch 7/10\n",
      "450/450 [==============================] - 2s 4ms/step - loss: 2.8317 - accuracy: 0.4256\n",
      "Epoch 8/10\n",
      "450/450 [==============================] - 2s 4ms/step - loss: 2.8299 - accuracy: 0.4168\n",
      "Epoch 9/10\n",
      "450/450 [==============================] - 2s 4ms/step - loss: 2.8273 - accuracy: 0.4219\n",
      "Epoch 10/10\n",
      "450/450 [==============================] - 2s 4ms/step - loss: 2.8270 - accuracy: 0.4307\n"
     ]
    }
   ],
   "source": [
    "weights = {0: 1,\n",
    "           1: 7,\n",
    "           2: 85}\n",
    "\n",
    "history = estimator.fit(X_train, y_train, class_weight=weights)"
   ]
  },
  {
   "cell_type": "code",
   "execution_count": 84,
   "metadata": {},
   "outputs": [
    {
     "data": {
      "text/plain": [
       "0.43353243506042505"
      ]
     },
     "execution_count": 84,
     "metadata": {},
     "output_type": "execute_result"
    }
   ],
   "source": [
    "y_pred = estimator.predict(X_test)\n",
    "y_test = np.argmax(y_test, axis = 1)\n",
    "f1_score(y_pred, y_test, average = 'micro')"
   ]
  },
  {
   "cell_type": "code",
   "execution_count": 85,
   "metadata": {},
   "outputs": [
    {
     "data": {
      "image/png": "[encoded data removed]",
      "text/plain": [
       "<Figure size 432x288 with 2 Axes>"
      ]
     },
     "metadata": {
      "needs_background": "light"
     },
     "output_type": "display_data"
    }
   ],
   "source": [
    "cm = confusion_matrix(y_test, y_pred)\n",
    "cm_display = ConfusionMatrixDisplay(cm).plot()"
   ]
  },
  {
   "cell_type": "markdown",
   "metadata": {},
   "source": [
    "To see the effect of the class weights we can retrain the model without class weights and plot the confussion matrix"
   ]
  },
  {
   "cell_type": "code",
   "execution_count": 86,
   "metadata": {},
   "outputs": [
    {
     "name": "stdout",
     "output_type": "stream",
     "text": [
      "Epoch 1/10\n",
      "450/450 [==============================] - 2s 4ms/step - loss: 0.6176 - accuracy: 0.7731\n",
      "Epoch 2/10\n",
      "450/450 [==============================] - 2s 3ms/step - loss: 0.4627 - accuracy: 0.8520\n",
      "Epoch 3/10\n",
      "450/450 [==============================] - 1s 3ms/step - loss: 0.4543 - accuracy: 0.8520\n",
      "Epoch 4/10\n",
      "450/450 [==============================] - 1s 3ms/step - loss: 0.4510 - accuracy: 0.8520\n",
      "Epoch 5/10\n",
      "450/450 [==============================] - 1s 3ms/step - loss: 0.4492 - accuracy: 0.8520\n",
      "Epoch 6/10\n",
      "450/450 [==============================] - 1s 3ms/step - loss: 0.4481 - accuracy: 0.8520\n",
      "Epoch 7/10\n",
      "450/450 [==============================] - 1s 3ms/step - loss: 0.4475 - accuracy: 0.8520\n",
      "Epoch 8/10\n",
      "450/450 [==============================] - 1s 3ms/step - loss: 0.4471 - accuracy: 0.8520\n",
      "Epoch 9/10\n",
      "450/450 [==============================] - 1s 3ms/step - loss: 0.4469 - accuracy: 0.8520\n",
      "Epoch 10/10\n",
      "450/450 [==============================] - 1s 3ms/step - loss: 0.4466 - accuracy: 0.8520\n"
     ]
    }
   ],
   "source": [
    "estimator = KerasClassifier(build_fn=baseline_model,\n",
    "                            epochs=10,\n",
    "                            batch_size=256,\n",
    "                            verbose=1.)\n",
    "                            \n",
    "history = estimator.fit(X_train, y_train)"
   ]
  },
  {
   "cell_type": "code",
   "execution_count": 91,
   "metadata": {},
   "outputs": [
    {
     "data": {
      "text/plain": [
       "0.8520280594527018"
      ]
     },
     "execution_count": 91,
     "metadata": {},
     "output_type": "execute_result"
    }
   ],
   "source": [
    "y_pred = estimator.predict(X_test)\n",
    "y_test = np.argmax(y_test, axis = 1)\n",
    "f1_score(y_pred, y_test, average = 'micro')"
   ]
  },
  {
   "cell_type": "code",
   "execution_count": 92,
   "metadata": {},
   "outputs": [
    {
     "data": {
      "image/png": "[encoded data removed]",
      "text/plain": [
       "<Figure size 432x288 with 2 Axes>"
      ]
     },
     "metadata": {
      "needs_background": "light"
     },
     "output_type": "display_data"
    }
   ],
   "source": [
    "cm = confusion_matrix(y_test, y_pred)\n",
    "cm_display = ConfusionMatrixDisplay(cm).plot()"
   ]
  },
  {
   "cell_type": "markdown",
   "metadata": {},
   "source": [
    "We can see that the model is overfitting to the majority class (always predicting 0)"
   ]
  },
  {
   "cell_type": "code",
   "execution_count": 30,
   "metadata": {},
   "outputs": [
    {
     "data": {
      "text/plain": [
       "Text(0, 0.5, 'Loss')"
      ]
     },
     "execution_count": 30,
     "metadata": {},
     "output_type": "execute_result"
    },
    {
     "data": {
      "image/png": "[encoded data removed]",
      "text/plain": [
       "<Figure size 432x288 with 1 Axes>"
      ]
     },
     "metadata": {
      "needs_background": "light"
     },
     "output_type": "display_data"
    }
   ],
   "source": [
    "losses = history.history['loss']\n",
    "accuracy = history.history['accuracy']\n",
    "plt.plot(range(1, 11), losses)\n",
    "plt.xlabel(\"Epochs\")\n",
    "plt.ylabel('Loss')"
   ]
  },
  {
   "cell_type": "code",
   "execution_count": 32,
   "metadata": {},
   "outputs": [
    {
     "data": {
      "text/plain": [
       "Text(0, 0.5, 'Accuracy')"
      ]
     },
     "execution_count": 32,
     "metadata": {},
     "output_type": "execute_result"
    },
    {
     "data": {
      "image/png": "[encoded data removed]",
      "text/plain": [
       "<Figure size 432x288 with 1 Axes>"
      ]
     },
     "metadata": {
      "needs_background": "light"
     },
     "output_type": "display_data"
    }
   ],
   "source": [
    "plt.plot(range(1, 11), accuracy)\n",
    "plt.xlabel(\"Epochs\")\n",
    "plt.ylabel('Accuracy')"
   ]
  },
  {
   "cell_type": "markdown",
   "metadata": {},
   "source": [
    "We tried several Hyper-parameters and the best result we got was 0.48 for f1 score. <br>\n",
    "<br>\n",
    "**Hyper-parameters** we tried:- <br>\n",
    "- 3, 4, 5 ... Hidden layers ==> we found that more than 2 led to overfitting\n",
    "- learning rate  > 0.001 ==>     made the optimizer diverge\n",
    "- number of neurons for the first layer > 3 ==>  led to overfitting\n"
   ]
  },
  {
   "cell_type": "markdown",
   "metadata": {},
   "source": [
    "### Models Comparison"
   ]
  },
  {
   "cell_type": "markdown",
   "metadata": {},
   "source": [
    "<table ><tr><th >Model <th><th >KNN <th><th> Log_Reg <th><th>Naive_Bayes<th><th> NeuralNet <th><tr>\n",
    "<tr><td>F1 Score<td><td> 0.85 <td><td> 0.85 <td><td> 0.80 <td><td> 0.45 <td><tr><table>"
   ]
  },
  {
   "cell_type": "markdown",
   "metadata": {},
   "source": [
    "We can see that the f1 scores of both KNN and Log_Reg were almost the same <br>\n",
    "and the performance of the Naive Bayes was lower than KNN and Log Reg but higher than NN"
   ]
  },
  {
   "cell_type": "markdown",
   "metadata": {},
   "source": [
    "The evaluation metric we used seems to be misleading as the all models were predicting the majority class only and ignoring other classes, this can be seen from the confusion matrices above. <br>\n",
    "The only useful model was the weighted neural network that managed to predict the minority classes correctly"
   ]
  },
  {
   "cell_type": "code",
   "execution_count": null,
   "metadata": {},
   "outputs": [],
   "source": []
  }
 ],
 "metadata": {
  "kernelspec": {
   "display_name": "Python 3",
   "language": "python",
   "name": "python3"
  },
  "language_info": {
   "codemirror_mode": {
    "name": "ipython",
    "version": 3
   },
   "file_extension": ".py",
   "mimetype": "text/x-python",
   "name": "python",
   "nbconvert_exporter": "python",
   "pygments_lexer": "ipython3",
   "version": "3.8.5"
  }
 },
 "nbformat": 4,
 "nbformat_minor": 4
}
